{
  "nbformat": 4,
  "nbformat_minor": 0,
  "metadata": {
    "colab": {
      "provenance": [],
      "authorship_tag": "ABX9TyOoMFNLISgAaHMvRkGUYtxs",
      "include_colab_link": true
    },
    "kernelspec": {
      "name": "python3",
      "display_name": "Python 3"
    },
    "language_info": {
      "name": "python"
    }
  },
  "cells": [
    {
      "cell_type": "markdown",
      "metadata": {
        "id": "view-in-github",
        "colab_type": "text"
      },
      "source": [
        "<a href=\"https://colab.research.google.com/github/kimjaehwankimjaehwan/physics/blob/main/Initial_Mass_Function.ipynb\" target=\"_parent\"><img src=\"https://colab.research.google.com/assets/colab-badge.svg\" alt=\"Open In Colab\"/></a>"
      ]
    },
    {
      "cell_type": "markdown",
      "source": [
        "###1. 이론적 배경\n",
        "  \n",
        "  IMF는 별이 형성될 때 주어진 질량 구간에서 얼마나 많은 별이 만들어지는지를 나타냅니다. 이는 별의 형성과 진화를 연구하는 데 중요한 기초를 제공합니다. IMF는 별의 형성 과정에서 초기 조건을 정의하는 데 사용되며, 이후 별이 진화하면서 질량 손실, 초신성 폭발 등 여러 과정을 거치게 됩니다.\n",
        "\n",
        "###2. 수학적 표현\n",
        "\n",
        "IMF는 일반적으로 다음과 같은 형태로 표현됩니다:\n",
        "ξ(m) = C × m^(-α)\n",
        "- 여기서 ξ(m)은 질량이 m인 별의 수 밀도를 의미합니다.\n",
        "- m은 별의 초기 질량입니다.\n",
        "- α는 IMF의 기울기(slope)를 나타내며, 이 값은 특정 질량 범위에서 IMF의 형태를 결정합니다.\n",
        "- C는 정규화 상수입니다.\n",
        "\n"
      ],
      "metadata": {
        "id": "S9WmRogMvy2k"
      }
    },
    {
      "cell_type": "markdown",
      "source": [
        "###살피터 IMF (Salpeter IMF)\n",
        "\n",
        "살피터(Salpeter) IMF는 가장 널리 알려진 IMF의 형태로, 1955년 에드윈 살피터에 의해 제안되었습니다. 이 IMF는 다음과 같이 표현됩니다:\n",
        "\n",
        "ξ(m) = C × m^(-2.35)\n",
        "\n",
        "- 여기서 α = 2.35입니다.\n",
        "- 이 식은 태양보다 큰 질량을 가진 별들에 대해 유효하며, 별의 질량이 클수록 그 수는 기하급수적으로 감소함을 나타냅니다.\n"
      ],
      "metadata": {
        "id": "JQHhBUscwX3O"
      }
    },
    {
      "cell_type": "markdown",
      "source": [
        "###3.질량 범위에 따른 IMF 형태 변화\n",
        "\n",
        "IMF는 별의 질량 범위에 따라 다른 형태를 가질 수 있습니다. 실제 관측 결과에 따르면, IMF는 세 가지 주요 질량 범위에서 서로 다른 기울기를 가집니다.\n",
        "1. 저질량 영역 (0.1 M_⊙ < m < 0.5 M_⊙):\n",
        "   - 이 영역에서는 α 값이 살피터 IMF보다 작아져, 저질량 별이 더 많이 생성됩니다.\n",
        "   - 이를 표현하는 경우, α ≈ 1.3 정도로 설정됩니다.\n",
        "2. 중간질량 영역 (0.5 M_⊙ < m < 1 M_⊙):\n",
        "   - 이 영역에서는 살피터 IMF의 기울기인 α = 2.35와 비슷한 값을 가집니다.\n",
        "3. 고질량 영역 (m > 1 M_⊙):\n",
        "   - 이 영역에서는 α > 2.35로, 매우 큰 질량의 별들은 매우 적게 형성됩니다.\n",
        "\n",
        "###4. 예시\n",
        "\n",
        "실제 관측을 통해 확인된 IMF의 예시를 들어보겠습니다.\n",
        "  - 예시 1: 오리온 성운\n",
        "\n",
        "오리온 성운에서 관측된 별들의 IMF는 저질량 별이 압도적으로 많음을 보여줍니다. 0.5 M_⊙ 이하의 별들이 많이 분포하고 있으며, 10 M_⊙ 이상의 별들은 상대적으로 드뭅니다.\n",
        "  - 예시 2: 우리 은하의 IMF\n",
        "\n",
        "우리 은하의 별들 또한 IMF에 따라 저질량 별이 많이 존재하며, 큰 질량의 별들은 드문 것을 관찰할 수 있습니다. 이는 은하 전체의 질량 분포, 중원소 함량, 그리고 은하의 진화에 중요한 영향을 미칩니다.\n",
        "\n"
      ],
      "metadata": {
        "id": "vktMwlg0wcm6"
      }
    },
    {
      "cell_type": "markdown",
      "source": [
        "### 5. 응용\n",
        "\n",
        "IMF는 여러 천체물리학적 연구에서 중요한 역할을 합니다.\n",
        "\n",
        "- 별 형성률 추정: IMF를 통해 특정 은하나 성운에서 연간 얼마나 많은 별이 생성되는지 계산할 수 있습니다.\n",
        "- 은하 진화 연구: IMF를 기반으로 은하의 진화 모델을 구축하고, 별의 형성과 초신성 폭발을 통해 은하의 화학적 진화 과정을 예측할 수 있습니다.\n",
        "- 우주론적 시뮬레이션: IMF는 우주 규모의 별 형성 및 은하 생성 시뮬레이션에서 필수적인 요소입니다.\n"
      ],
      "metadata": {
        "id": "bGGKQE5Uw6Dy"
      }
    },
    {
      "cell_type": "code",
      "source": [
        "# Google Colab에 NanumGothic 폰트 설치\n",
        "!apt-get update -qq\n",
        "!apt-get install fonts-nanum* -qq\n",
        "\n",
        "# matplotlib.font_manager 임포트\n",
        "import matplotlib.font_manager as fm\n",
        "import matplotlib.pyplot as plt\n",
        "\n",
        "# 설치된 폰트 확인 및 matplotlib에 적용\n",
        "font_path = '/usr/share/fonts/truetype/nanum/NanumGothic.ttf'\n",
        "font = fm.FontProperties(fname=font_path)\n",
        "fm.fontManager.addfont(font_path)\n",
        "plt.rc('font', family='NanumGothic')\n",
        "\n",
        "print(\"폰트 설정 완료\")"
      ],
      "metadata": {
        "colab": {
          "base_uri": "https://localhost:8080/"
        },
        "id": "9vzN8rgXyb2J",
        "outputId": "21fb865b-9007-4706-fc0f-f6b35c737385"
      },
      "execution_count": 3,
      "outputs": [
        {
          "output_type": "stream",
          "name": "stdout",
          "text": [
            "W: Skipping acquire of configured file 'main/source/Sources' as repository 'https://r2u.stat.illinois.edu/ubuntu jammy InRelease' does not seem to provide it (sources.list entry misspelt?)\n",
            "Selecting previously unselected package fonts-nanum.\n",
            "(Reading database ... 123594 files and directories currently installed.)\n",
            "Preparing to unpack .../fonts-nanum_20200506-1_all.deb ...\n",
            "Unpacking fonts-nanum (20200506-1) ...\n",
            "Selecting previously unselected package fonts-nanum-coding.\n",
            "Preparing to unpack .../fonts-nanum-coding_2.5-3_all.deb ...\n",
            "Unpacking fonts-nanum-coding (2.5-3) ...\n",
            "Selecting previously unselected package fonts-nanum-eco.\n",
            "Preparing to unpack .../fonts-nanum-eco_1.000-7_all.deb ...\n",
            "Unpacking fonts-nanum-eco (1.000-7) ...\n",
            "Selecting previously unselected package fonts-nanum-extra.\n",
            "Preparing to unpack .../fonts-nanum-extra_20200506-1_all.deb ...\n",
            "Unpacking fonts-nanum-extra (20200506-1) ...\n",
            "Setting up fonts-nanum-extra (20200506-1) ...\n",
            "Setting up fonts-nanum (20200506-1) ...\n",
            "Setting up fonts-nanum-coding (2.5-3) ...\n",
            "Setting up fonts-nanum-eco (1.000-7) ...\n",
            "Processing triggers for fontconfig (2.13.1-4.2ubuntu5) ...\n",
            "폰트 설정 완료\n"
          ]
        }
      ]
    },
    {
      "cell_type": "code",
      "execution_count": 4,
      "metadata": {
        "colab": {
          "base_uri": "https://localhost:8080/",
          "height": 562
        },
        "id": "5aMfvtscvqIE",
        "outputId": "22f9a4ef-27f8-4c7d-fb65-5c2a4db9da4c"
      },
      "outputs": [
        {
          "output_type": "display_data",
          "data": {
            "text/plain": [
              "<Figure size 1000x600 with 1 Axes>"
            ],
            "image/png": "[encoded data removed]"
          },
          "metadata": {}
        }
      ],
      "source": [
        "import numpy as np\n",
        "import matplotlib.pyplot as plt\n",
        "\n",
        "# 살피터 IMF를 위한 상수 설정\n",
        "alpha = 2.35  # 살피터 IMF의 기울기\n",
        "m_min = 0.08   # 최소 질량 (태양 질량의 배수)\n",
        "m_max = 100    # 최대 질량 (태양 질량의 배수)\n",
        "num_stars = 10000  # 생성할 별의 수\n",
        "\n",
        "# salpeter_imf 함수\n",
        "def salpeter_imf(m_min, m_max, alpha, num_stars): # m_min과 m_max는 각각 생성할 별의 최소 질량과 최대 질량을 의미하며, alpha는 IMF의 기울기를 나타냄, num_stars는 생성할 별의 수입니다.\n",
        "    exponent = -alpha + 1\n",
        "    # 역변환 샘플링 기법을 사용하여 별의 질량을 생성\n",
        "    masses = (m_min**exponent + (m_max**exponent - m_min**exponent) * np.random.random(num_stars))**(1/exponent)\n",
        "    return masses\n",
        "\n",
        "# 질량 분포 생성\n",
        "star_masses = salpeter_imf(m_min, m_max, alpha, num_stars)\n",
        "\n",
        "\n",
        "plt.figure(figsize=(10, 6))\n",
        "plt.hist(star_masses, bins=50, color='blue', alpha=0.7)\n",
        "plt.yscale('log')\n",
        "plt.xlabel('별의 질량 (태양 질량 배수)')\n",
        "plt.ylabel('별의 수')\n",
        "plt.title('살피터 IMF에 따른 별의 질량 분포')\n",
        "plt.grid(True)\n",
        "plt.show()\n"
      ]
    },
    {
      "cell_type": "code",
      "source": [],
      "metadata": {
        "id": "gpGuMx2WvyvY"
      },
      "execution_count": null,
      "outputs": []
    }
  ]
}