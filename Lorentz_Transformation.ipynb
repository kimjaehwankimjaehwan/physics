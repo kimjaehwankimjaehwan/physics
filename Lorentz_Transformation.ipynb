{
  "nbformat": 4,
  "nbformat_minor": 0,
  "metadata": {
    "colab": {
      "provenance": [],
      "authorship_tag": "ABX9TyOl1JommxkZnjEd03Qpu2bR",
      "include_colab_link": true
    },
    "kernelspec": {
      "name": "python3",
      "display_name": "Python 3"
    },
    "language_info": {
      "name": "python"
    }
  },
  "cells": [
    {
      "cell_type": "markdown",
      "metadata": {
        "id": "view-in-github",
        "colab_type": "text"
      },
      "source": [
        "<a href=\"https://colab.research.google.com/github/kimjaehwankimjaehwan/physics/blob/main/Lorentz_Transformation.ipynb\" target=\"_parent\"><img src=\"https://colab.research.google.com/assets/colab-badge.svg\" alt=\"Open In Colab\"/></a>"
      ]
    },
    {
      "cell_type": "markdown",
      "source": [
        "###1. 로렌츠 변환의 기본 개념\n",
        "\n",
        "로렌츠 변환(Lorentz Transformation)은 알베르트 아인슈타인의 특수 상대성이론에서 중요한 역할을 하는 수학적 변환입니다. 이 변환은 서로 다른 관성계(즉, 서로 상대적인 속도로 움직이는 두 관성계) 사이에서 시간과 공간 좌표가 어떻게 변환되는지를 설명합니다. 로렌츠 변환은 고전 역학의 갈릴레이 변환을 대체하며, 빛의 속도가 모든 관성계에서 동일하다는 특수 상대성이론의 기본 원리를 반영합니다.\n",
        "\n",
        "###2. 로렌츠 변환의 수식\n",
        "\n",
        "두 관성계 S와 S'가 있다고 가정합니다. S'는 S에 대해 x축 방향으로 속도 v로 이동한다고 가정할 때, 로렌츠 변환은 다음과 같이 주어집니다.\n",
        "\n",
        " - 시간 변환 : t' = γ ( t - vx / c^2 )\n",
        "\n",
        " - 공간 변환\n",
        "\n",
        "  x' = γ ( x - vt )\n",
        "\n",
        "  y' = y\n",
        "\n",
        "  z' = z\n",
        "\n",
        "여기서, γ는 로렌츠 인자(Lorentz factor)로 다음과 같이 정의됩니다:\n",
        "\n",
        "γ = 1 / √(1 - v^2/c^2)\n",
        "\n"
      ],
      "metadata": {
        "id": "HWBbAg4b1V8c"
      }
    },
    {
      "cell_type": "markdown",
      "source": [
        "###3. 로렌츠 변환의 주요 효과\n",
        "\n",
        "로렌츠 변환은 시간과 공간의 개념이 절대적이지 않음을 보여주며, 다음과 같은 주요 효과를 설명합니다.\n",
        "\n",
        "1) 시간 지연(Time Dilation)\n",
        "\n",
        " - 설명: 움직이는 시계는 정지한 관찰자에게 더 느리게 가는 것처럼 보입니다.\n",
        " - 수식: 정지한 관찰자에게 측정된 시간이 t, 움직이는 관찰자에게 측정된 시간이 t_0일 때, 시간 지연은 다음과 같이 표현됩니다:\n",
        "\n",
        "  t = γ t_0\n",
        "\n",
        "2) 길이 수축(Length Contraction)\n",
        " - 설명: 운동 방향으로 움직이는 물체는 그 방향에서 짧아 보입니다.\n",
        " - 수식: 정지한 관찰자에게 측정된 길이가 L, 움직이는 관찰자에게 측정된 길이가 L_0일 때, 길이 수축은 다음과 같이 표현됩니다:\n",
        "\n",
        " L = L_0 / γ\n"
      ],
      "metadata": {
        "id": "QFxlCYg11xLt"
      }
    },
    {
      "cell_type": "markdown",
      "source": [
        "###4. 예시\n",
        "\n",
        "1) 빠르게 움직이는 우주선\n",
        "\n",
        "우주선이 빛의 속도에 가까운 속도로 움직일 때, 지구에서 관찰한 우주선의 시간은 매우 느리게 흐릅니다. 이 현상은 로렌츠 변환으로 설명할 수 있습니다. 예를 들어, 우주선이 0.8c의 속도로 움직인다면, 지구에서 10년이 지나도 우주선 안에서는 단 6년밖에 지나지 않을 수 있습니다.\n",
        "\n",
        "2) 뮤온의 수명\n",
        "\n",
        "뮤온은 입자로, 지구 대기권에서 생성되며 매우 짧은 수명을 가집니다. 하지만, 지구 표면에 도달하는 뮤온의 수가 예상보다 많습니다. 이는 뮤온이 빛에 가까운 속도로 움직이기 때문에, 로렌츠 변환에 따라 뮤온의 시간은 지구에서 관찰했을 때 더 느리게 흐르기 때문입니다.\n"
      ],
      "metadata": {
        "id": "d2AXlajw2DAs"
      }
    },
    {
      "cell_type": "markdown",
      "source": [
        "###실제 사례: 뮤온의 수명 연장\n",
        "\n",
        "뮤온(muon)은 매우 짧은 수명을 가지는 아원자 입자로, 지구 대기권에서 생성된 후 지표면에 도달할 때까지의 과정을 로렌츠 변환을 통해 이해할 수 있습니다. 뮤온은 매우 빠른 속도로 이동하기 때문에, 지구에서 관측된 시간은 뮤온의 자체 시간보다 더 길게 측정됩니다.\n",
        "\n",
        "###코드 설명:\n",
        "\n",
        "뮤온의 정지 수명(뮤온이 정지한 상태에서의 평균 수명)을 알고 있을 때, 그 뮤온이 특정 속도로 이동할 때, 지구에서 관측되는 수명을 계산합니다.\n",
        "로렌츠 변환을 사용하여 시간 지연을 계산합니다."
      ],
      "metadata": {
        "id": "9CZ4r2yt2NyJ"
      }
    },
    {
      "cell_type": "code",
      "source": [
        "# Google Colab에 NanumGothic 폰트 설치\n",
        "!apt-get update -qq\n",
        "!apt-get install fonts-nanum* -qq\n",
        "\n",
        "# matplotlib.font_manager 임포트\n",
        "import matplotlib.font_manager as fm\n",
        "import matplotlib.pyplot as plt\n",
        "\n",
        "# 설치된 폰트 확인 및 matplotlib에 적용\n",
        "font_path = '/usr/share/fonts/truetype/nanum/NanumGothic.ttf'\n",
        "font = fm.FontProperties(fname=font_path)\n",
        "fm.fontManager.addfont(font_path)\n",
        "plt.rc('font', family='NanumGothic')\n",
        "\n",
        "print(\"폰트 설정 완료\")"
      ],
      "metadata": {
        "colab": {
          "base_uri": "https://localhost:8080/"
        },
        "id": "nRk9B5gI2V6D",
        "outputId": "e95c894e-da94-46f7-e67a-00dae1368ef6"
      },
      "execution_count": 2,
      "outputs": [
        {
          "output_type": "stream",
          "name": "stdout",
          "text": [
            "W: Skipping acquire of configured file 'main/source/Sources' as repository 'https://r2u.stat.illinois.edu/ubuntu jammy InRelease' does not seem to provide it (sources.list entry misspelt?)\n",
            "Selecting previously unselected package fonts-nanum.\n",
            "(Reading database ... 123594 files and directories currently installed.)\n",
            "Preparing to unpack .../fonts-nanum_20200506-1_all.deb ...\n",
            "Unpacking fonts-nanum (20200506-1) ...\n",
            "Selecting previously unselected package fonts-nanum-coding.\n",
            "Preparing to unpack .../fonts-nanum-coding_2.5-3_all.deb ...\n",
            "Unpacking fonts-nanum-coding (2.5-3) ...\n",
            "Selecting previously unselected package fonts-nanum-eco.\n",
            "Preparing to unpack .../fonts-nanum-eco_1.000-7_all.deb ...\n",
            "Unpacking fonts-nanum-eco (1.000-7) ...\n",
            "Selecting previously unselected package fonts-nanum-extra.\n",
            "Preparing to unpack .../fonts-nanum-extra_20200506-1_all.deb ...\n",
            "Unpacking fonts-nanum-extra (20200506-1) ...\n",
            "Setting up fonts-nanum-extra (20200506-1) ...\n",
            "Setting up fonts-nanum (20200506-1) ...\n",
            "Setting up fonts-nanum-coding (2.5-3) ...\n",
            "Setting up fonts-nanum-eco (1.000-7) ...\n",
            "Processing triggers for fontconfig (2.13.1-4.2ubuntu5) ...\n",
            "폰트 설정 완료\n"
          ]
        }
      ]
    },
    {
      "cell_type": "code",
      "execution_count": 3,
      "metadata": {
        "colab": {
          "base_uri": "https://localhost:8080/",
          "height": 631
        },
        "id": "Nrekjk2X0_aj",
        "outputId": "c22f1f42-8672-43da-cc2b-f9fc6c44f0c9"
      },
      "outputs": [
        {
          "output_type": "stream",
          "name": "stdout",
          "text": [
            "정지한 뮤온의 수명: 2.2e-06 초\n",
            "빛의 속도의 99.0%로 움직이는 뮤온의 수명: 1.56e-05 초\n"
          ]
        },
        {
          "output_type": "stream",
          "name": "stderr",
          "text": [
            "/usr/local/lib/python3.10/dist-packages/IPython/core/pylabtools.py:151: UserWarning: Glyph 8722 (\\N{MINUS SIGN}) missing from current font.\n",
            "  fig.canvas.print_figure(bytes_io, **kw)\n"
          ]
        },
        {
          "output_type": "display_data",
          "data": {
            "text/plain": [
              "<Figure size 1000x600 with 1 Axes>"
            ],
            "image/png": "[encoded data removed]"
          },
          "metadata": {}
        }
      ],
      "source": [
        "import numpy as np\n",
        "import matplotlib.pyplot as plt\n",
        "\n",
        "# 기본 상수\n",
        "c = 299792458  # 빛의 속도 (m/s)\n",
        "muon_lifetime = 2.2e-6  # 뮤온의 정지 수명 (초)\n",
        "v_fraction = 0.99  # 빛의 속도에 대한 뮤온의 속도 비율 (예: 0.99c)\n",
        "\n",
        "# 로렌츠 인자 계산\n",
        "v = v_fraction * c\n",
        "gamma = 1 / np.sqrt(1 - (v/c)**2)\n",
        "\n",
        "# 지구에서 관측된 뮤온의 수명\n",
        "observed_lifetime = gamma * muon_lifetime\n",
        "\n",
        "# 결과 출력\n",
        "print(f\"정지한 뮤온의 수명: {muon_lifetime} 초\")\n",
        "print(f\"빛의 속도의 {v_fraction*100}%로 움직이는 뮤온의 수명: {observed_lifetime:.2e} 초\")\n",
        "\n",
        "# 시각화: 속도에 따른 시간 지연\n",
        "v_fractions = np.linspace(0, 0.999, 1000)\n",
        "gammas = 1 / np.sqrt(1 - v_fractions**2)\n",
        "observed_lifetimes = gammas * muon_lifetime\n",
        "\n",
        "plt.figure(figsize=(10, 6))\n",
        "plt.plot(v_fractions, observed_lifetimes, label='Observed Muon Lifetime')\n",
        "plt.xlabel('속도 비율 (v/c)')\n",
        "plt.ylabel('지구에서 관측된 수명 (초)')\n",
        "plt.title('속도에 따른 뮤온의 시간 지연')\n",
        "plt.grid(True)\n",
        "plt.legend()\n",
        "plt.show()\n"
      ]
    }
  ]
}